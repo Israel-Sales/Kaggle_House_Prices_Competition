{
 "cells": [
  {
   "cell_type": "code",
   "execution_count": null,
   "metadata": {},
   "outputs": [],
   "source": [
    "from excel import OpenExcel\n",
    "import pandas as pd"
   ]
  }
 ],
 "metadata": {
  "kernelspec": {
   "display_name": "Python 3.10.5 ('virtual': venv)",
   "language": "python",
   "name": "python3"
  },
  "language_info": {
   "name": "python",
   "version": "3.10.5"
  },
  "orig_nbformat": 4,
  "vscode": {
   "interpreter": {
    "hash": "d7fe9a447172f5ec6d6d33c04bbe9a018984d214fba26f784db4d5971171d1c1"
   }
  }
 },
 "nbformat": 4,
 "nbformat_minor": 2
}
